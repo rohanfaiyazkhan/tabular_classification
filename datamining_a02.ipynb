{
  "nbformat": 4,
  "nbformat_minor": 0,
  "metadata": {
    "colab": {
      "name": "datamining-a02.ipynb",
      "provenance": [],
      "collapsed_sections": [],
      "mount_file_id": "1Ke3LBfULRYg18UIrREssATZfO3QcdDGy",
      "authorship_tag": "ABX9TyMH5lW6N9F1ecrRBAcQNMA7",
      "include_colab_link": true
    },
    "kernelspec": {
      "name": "python3",
      "display_name": "Python 3"
    },
    "language_info": {
      "name": "python"
    }
  },
  "cells": [
    {
      "cell_type": "markdown",
      "metadata": {
        "id": "view-in-github",
        "colab_type": "text"
      },
      "source": [
        "<a href=\"https://colab.research.google.com/github/rohanfaiyazkhan/tabular_classification/blob/main/datamining_a02.ipynb\" target=\"_parent\"><img src=\"https://colab.research.google.com/assets/colab-badge.svg\" alt=\"Open In Colab\"/></a>"
      ]
    },
    {
      "cell_type": "markdown",
      "metadata": {
        "id": "ZG7cxexakrEb"
      },
      "source": [
        "# Assignment 2: Rohan Faiyaz Khan"
      ]
    },
    {
      "cell_type": "code",
      "metadata": {
        "id": "PHMJNFTxEsvl"
      },
      "source": [
        "#! pip install -Uqq numpy pandas scikit-learn"
      ],
      "execution_count": 222,
      "outputs": []
    },
    {
      "cell_type": "code",
      "metadata": {
        "id": "LGcYfbh0Fx_w"
      },
      "source": [
        "import pandas as pd\n",
        "import numpy as np\n",
        "from sklearn.linear_model import LogisticRegression\n",
        "from sklearn.metrics import f1_score\n",
        "from pprint import pprint\n",
        "from sklearn.ensemble import RandomForestClassifier\n",
        "from sklearn.metrics import confusion_matrix, classification_report\n",
        "from sklearn.preprocessing import StandardScaler, LabelEncoder\n",
        "import seaborn as sns\n",
        "import matplotlib.pyplot as plt"
      ],
      "execution_count": 223,
      "outputs": []
    },
    {
      "cell_type": "markdown",
      "metadata": {
        "id": "rEbqDAtUx5U9"
      },
      "source": [
        "## Trial 0"
      ]
    },
    {
      "cell_type": "markdown",
      "metadata": {
        "id": "tWlxKIfNC5pC"
      },
      "source": [
        "For this assignment we will create a model that predict product ratings. Let's first run through trial 0 using the same code as provided in the walkthrough."
      ]
    },
    {
      "cell_type": "code",
      "metadata": {
        "id": "WThbyY6gHgIe"
      },
      "source": [
        "# Load data\n",
        "data = pd.read_csv('./drive/MyDrive/Colab Notebooks/train_new.csv').sample(frac=1)\n",
        "# Ensure rating is one of the 5 levels\n",
        "data = data.loc[data['rating'].isin([1, 2, 3, 4, 5])]\n",
        "# Fill null values\n",
        "data = data.fillna(0)\n",
        "# Drop columns that we can intuit are not related to the rating. \n",
        "# For example id is randomly generated and hence is not relevant to rating\n",
        "data = data.drop(['merchant_id', 'merchant_profile_picture', 'id', 'tags'], axis=1)\n"
      ],
      "execution_count": 224,
      "outputs": []
    },
    {
      "cell_type": "code",
      "metadata": {
        "id": "C8Uca9NNIZeR"
      },
      "source": [
        "# Split training and validation data with a 70-30 split\n",
        "msk = np.random.rand(len(data)) < 0.7\n",
        "tr = data[msk]\n",
        "val = data[~msk]"
      ],
      "execution_count": 225,
      "outputs": []
    },
    {
      "cell_type": "code",
      "metadata": {
        "colab": {
          "base_uri": "https://localhost:8080/"
        },
        "id": "gEPtjm1xyo78",
        "outputId": "2f3b6561-8cfb-420b-f854-97fe19b89762"
      },
      "source": [
        "dict_cat = {}\n",
        "\n",
        "cat_cols = tr.columns[tr.dtypes==object].to_list()\n",
        "\n",
        "# this function will encode columns that are strings as categorical digits\n",
        "def cat_digit(col):  \n",
        "    # build the mapping\n",
        "    encoded = col.astype('category').cat.codes\n",
        "    # store the mapping\n",
        "    dict_cat[col.name] = dict(zip(np.asarray(col), np.asarray(encoded)))\n",
        "    return encoded\n",
        "\n",
        "# for each categorical feature, apply cat_digit where we build the mapping and transform the data\n",
        "# this is for the training set (where we build the mapping)\n",
        "tr[cat_cols] = tr[cat_cols].apply(lambda col: cat_digit(col))\n",
        "\n",
        "\n"
      ],
      "execution_count": 226,
      "outputs": [
        {
          "output_type": "stream",
          "name": "stderr",
          "text": [
            "/usr/local/lib/python3.7/dist-packages/pandas/core/frame.py:3069: SettingWithCopyWarning: \n",
            "A value is trying to be set on a copy of a slice from a DataFrame.\n",
            "Try using .loc[row_indexer,col_indexer] = value instead\n",
            "\n",
            "See the caveats in the documentation: https://pandas.pydata.org/pandas-docs/stable/user_guide/indexing.html#returning-a-view-versus-a-copy\n",
            "  self[k1] = value[k2]\n"
          ]
        }
      ]
    },
    {
      "cell_type": "markdown",
      "metadata": {
        "id": "hObhMxKITKQN"
      },
      "source": [
        "While encoding, we are also saving the encoding-category pairs in the category dictionary `dict_cat`."
      ]
    },
    {
      "cell_type": "code",
      "metadata": {
        "id": "eNGiLbRW0Hj2",
        "colab": {
          "base_uri": "https://localhost:8080/"
        },
        "outputId": "da49ea23-ebc8-4125-a789-3cf8bfba7aa1"
      },
      "source": [
        "print('categorical features')\n",
        "pprint(list(dict_cat.keys()))"
      ],
      "execution_count": 346,
      "outputs": [
        {
          "output_type": "stream",
          "name": "stdout",
          "text": [
            "categorical features\n",
            "['currency_buyer',\n",
            " 'product_color',\n",
            " 'product_variation_size_id',\n",
            " 'shipping_option_name',\n",
            " 'urgency_text',\n",
            " 'origin_country',\n",
            " 'merchant_title',\n",
            " 'merchant_name',\n",
            " 'merchant_info_subtitle',\n",
            " 'theme',\n",
            " 'crawl_month']\n"
          ]
        }
      ]
    },
    {
      "cell_type": "code",
      "metadata": {
        "colab": {
          "base_uri": "https://localhost:8080/"
        },
        "id": "P0YKrZdgenEM",
        "outputId": "6baea1b7-6bcc-49dc-b7c5-6a74c30744a6"
      },
      "source": [
        "print('Lets see what the mapping for column origin_country :')\n",
        "pprint(dict_cat['origin_country'])\n",
        "print('It is a string to integer mapping')"
      ],
      "execution_count": 228,
      "outputs": [
        {
          "output_type": "stream",
          "name": "stdout",
          "text": [
            "Lets see what the mapping for column origin_country :\n",
            "{0: 0, 'CN': 1, 'GB': 2, 'US': 3, 'VE': 4}\n",
            "It is a string to integer mapping\n"
          ]
        }
      ]
    },
    {
      "cell_type": "markdown",
      "metadata": {
        "id": "figf_kLOTHgL"
      },
      "source": [
        "We can see how the mapping inside `dict_cat` looks like for one category."
      ]
    },
    {
      "cell_type": "code",
      "metadata": {
        "colab": {
          "base_uri": "https://localhost:8080/",
          "height": 556
        },
        "id": "nMlKyzdThUCS",
        "outputId": "8c8e036a-f313-4d4f-fd94-48f09aaa1c04"
      },
      "source": [
        "# then we will use the mappings built from the training set, to transform the validation set\n",
        "val[cat_cols] = val[cat_cols].apply(lambda col: col.map(dict_cat[col.name]))\n",
        "# for string values that not seen in training set, we replace it with -1\n",
        "val = val.fillna(-1)\n",
        "val"
      ],
      "execution_count": 229,
      "outputs": [
        {
          "output_type": "stream",
          "name": "stderr",
          "text": [
            "/usr/local/lib/python3.7/dist-packages/pandas/core/frame.py:3069: SettingWithCopyWarning: \n",
            "A value is trying to be set on a copy of a slice from a DataFrame.\n",
            "Try using .loc[row_indexer,col_indexer] = value instead\n",
            "\n",
            "See the caveats in the documentation: https://pandas.pydata.org/pandas-docs/stable/user_guide/indexing.html#returning-a-view-versus-a-copy\n",
            "  self[k1] = value[k2]\n"
          ]
        },
        {
          "output_type": "execute_result",
          "data": {
            "text/html": [
              "<div>\n",
              "<style scoped>\n",
              "    .dataframe tbody tr th:only-of-type {\n",
              "        vertical-align: middle;\n",
              "    }\n",
              "\n",
              "    .dataframe tbody tr th {\n",
              "        vertical-align: top;\n",
              "    }\n",
              "\n",
              "    .dataframe thead th {\n",
              "        text-align: right;\n",
              "    }\n",
              "</style>\n",
              "<table border=\"1\" class=\"dataframe\">\n",
              "  <thead>\n",
              "    <tr style=\"text-align: right;\">\n",
              "      <th></th>\n",
              "      <th>price</th>\n",
              "      <th>retail_price</th>\n",
              "      <th>currency_buyer</th>\n",
              "      <th>units_sold</th>\n",
              "      <th>uses_ad_boosts</th>\n",
              "      <th>rating</th>\n",
              "      <th>rating_count</th>\n",
              "      <th>badges_count</th>\n",
              "      <th>badge_local_product</th>\n",
              "      <th>badge_product_quality</th>\n",
              "      <th>badge_fast_shipping</th>\n",
              "      <th>product_color</th>\n",
              "      <th>product_variation_size_id</th>\n",
              "      <th>product_variation_inventory</th>\n",
              "      <th>shipping_option_name</th>\n",
              "      <th>shipping_option_price</th>\n",
              "      <th>shipping_is_express</th>\n",
              "      <th>countries_shipped_to</th>\n",
              "      <th>inventory_total</th>\n",
              "      <th>has_urgency_banner</th>\n",
              "      <th>urgency_text</th>\n",
              "      <th>origin_country</th>\n",
              "      <th>merchant_title</th>\n",
              "      <th>merchant_name</th>\n",
              "      <th>merchant_info_subtitle</th>\n",
              "      <th>merchant_rating_count</th>\n",
              "      <th>merchant_rating</th>\n",
              "      <th>merchant_has_profile_picture</th>\n",
              "      <th>theme</th>\n",
              "      <th>crawl_month</th>\n",
              "    </tr>\n",
              "  </thead>\n",
              "  <tbody>\n",
              "    <tr>\n",
              "      <th>1049</th>\n",
              "      <td>9.0</td>\n",
              "      <td>50</td>\n",
              "      <td>0</td>\n",
              "      <td>5000</td>\n",
              "      <td>0</td>\n",
              "      <td>4.0</td>\n",
              "      <td>985</td>\n",
              "      <td>0</td>\n",
              "      <td>0</td>\n",
              "      <td>0</td>\n",
              "      <td>0</td>\n",
              "      <td>10.0</td>\n",
              "      <td>36.0</td>\n",
              "      <td>50</td>\n",
              "      <td>4.0</td>\n",
              "      <td>3</td>\n",
              "      <td>0</td>\n",
              "      <td>43</td>\n",
              "      <td>50</td>\n",
              "      <td>0.0</td>\n",
              "      <td>0</td>\n",
              "      <td>1.0</td>\n",
              "      <td>-1.0</td>\n",
              "      <td>-1.0</td>\n",
              "      <td>-1.0</td>\n",
              "      <td>7889</td>\n",
              "      <td>3.995056</td>\n",
              "      <td>0</td>\n",
              "      <td>0</td>\n",
              "      <td>0</td>\n",
              "    </tr>\n",
              "    <tr>\n",
              "      <th>748</th>\n",
              "      <td>16.0</td>\n",
              "      <td>14</td>\n",
              "      <td>0</td>\n",
              "      <td>100</td>\n",
              "      <td>1</td>\n",
              "      <td>4.0</td>\n",
              "      <td>82</td>\n",
              "      <td>0</td>\n",
              "      <td>0</td>\n",
              "      <td>0</td>\n",
              "      <td>0</td>\n",
              "      <td>63.0</td>\n",
              "      <td>36.0</td>\n",
              "      <td>50</td>\n",
              "      <td>4.0</td>\n",
              "      <td>5</td>\n",
              "      <td>0</td>\n",
              "      <td>36</td>\n",
              "      <td>50</td>\n",
              "      <td>0.0</td>\n",
              "      <td>0</td>\n",
              "      <td>1.0</td>\n",
              "      <td>344.0</td>\n",
              "      <td>183.0</td>\n",
              "      <td>496.0</td>\n",
              "      <td>514</td>\n",
              "      <td>4.217899</td>\n",
              "      <td>0</td>\n",
              "      <td>0</td>\n",
              "      <td>0</td>\n",
              "    </tr>\n",
              "    <tr>\n",
              "      <th>197</th>\n",
              "      <td>6.0</td>\n",
              "      <td>6</td>\n",
              "      <td>0</td>\n",
              "      <td>20000</td>\n",
              "      <td>1</td>\n",
              "      <td>4.0</td>\n",
              "      <td>1600</td>\n",
              "      <td>0</td>\n",
              "      <td>0</td>\n",
              "      <td>0</td>\n",
              "      <td>0</td>\n",
              "      <td>29.0</td>\n",
              "      <td>30.0</td>\n",
              "      <td>50</td>\n",
              "      <td>4.0</td>\n",
              "      <td>2</td>\n",
              "      <td>0</td>\n",
              "      <td>33</td>\n",
              "      <td>50</td>\n",
              "      <td>0.0</td>\n",
              "      <td>0</td>\n",
              "      <td>1.0</td>\n",
              "      <td>208.0</td>\n",
              "      <td>458.0</td>\n",
              "      <td>-1.0</td>\n",
              "      <td>16013</td>\n",
              "      <td>4.108849</td>\n",
              "      <td>0</td>\n",
              "      <td>0</td>\n",
              "      <td>0</td>\n",
              "    </tr>\n",
              "    <tr>\n",
              "      <th>331</th>\n",
              "      <td>8.0</td>\n",
              "      <td>7</td>\n",
              "      <td>0</td>\n",
              "      <td>10000</td>\n",
              "      <td>1</td>\n",
              "      <td>3.0</td>\n",
              "      <td>1061</td>\n",
              "      <td>0</td>\n",
              "      <td>0</td>\n",
              "      <td>0</td>\n",
              "      <td>0</td>\n",
              "      <td>54.0</td>\n",
              "      <td>31.0</td>\n",
              "      <td>30</td>\n",
              "      <td>4.0</td>\n",
              "      <td>3</td>\n",
              "      <td>0</td>\n",
              "      <td>28</td>\n",
              "      <td>50</td>\n",
              "      <td>0.0</td>\n",
              "      <td>0</td>\n",
              "      <td>1.0</td>\n",
              "      <td>454.0</td>\n",
              "      <td>375.0</td>\n",
              "      <td>419.0</td>\n",
              "      <td>88193</td>\n",
              "      <td>4.080891</td>\n",
              "      <td>1</td>\n",
              "      <td>0</td>\n",
              "      <td>0</td>\n",
              "    </tr>\n",
              "    <tr>\n",
              "      <th>655</th>\n",
              "      <td>7.0</td>\n",
              "      <td>6</td>\n",
              "      <td>0</td>\n",
              "      <td>100</td>\n",
              "      <td>1</td>\n",
              "      <td>4.0</td>\n",
              "      <td>14</td>\n",
              "      <td>0</td>\n",
              "      <td>0</td>\n",
              "      <td>0</td>\n",
              "      <td>0</td>\n",
              "      <td>56.0</td>\n",
              "      <td>36.0</td>\n",
              "      <td>50</td>\n",
              "      <td>4.0</td>\n",
              "      <td>2</td>\n",
              "      <td>0</td>\n",
              "      <td>41</td>\n",
              "      <td>50</td>\n",
              "      <td>0.0</td>\n",
              "      <td>0</td>\n",
              "      <td>1.0</td>\n",
              "      <td>-1.0</td>\n",
              "      <td>-1.0</td>\n",
              "      <td>-1.0</td>\n",
              "      <td>7023</td>\n",
              "      <td>4.235939</td>\n",
              "      <td>0</td>\n",
              "      <td>0</td>\n",
              "      <td>0</td>\n",
              "    </tr>\n",
              "    <tr>\n",
              "      <th>...</th>\n",
              "      <td>...</td>\n",
              "      <td>...</td>\n",
              "      <td>...</td>\n",
              "      <td>...</td>\n",
              "      <td>...</td>\n",
              "      <td>...</td>\n",
              "      <td>...</td>\n",
              "      <td>...</td>\n",
              "      <td>...</td>\n",
              "      <td>...</td>\n",
              "      <td>...</td>\n",
              "      <td>...</td>\n",
              "      <td>...</td>\n",
              "      <td>...</td>\n",
              "      <td>...</td>\n",
              "      <td>...</td>\n",
              "      <td>...</td>\n",
              "      <td>...</td>\n",
              "      <td>...</td>\n",
              "      <td>...</td>\n",
              "      <td>...</td>\n",
              "      <td>...</td>\n",
              "      <td>...</td>\n",
              "      <td>...</td>\n",
              "      <td>...</td>\n",
              "      <td>...</td>\n",
              "      <td>...</td>\n",
              "      <td>...</td>\n",
              "      <td>...</td>\n",
              "      <td>...</td>\n",
              "    </tr>\n",
              "    <tr>\n",
              "      <th>489</th>\n",
              "      <td>8.0</td>\n",
              "      <td>7</td>\n",
              "      <td>0</td>\n",
              "      <td>100</td>\n",
              "      <td>1</td>\n",
              "      <td>5.0</td>\n",
              "      <td>7</td>\n",
              "      <td>0</td>\n",
              "      <td>0</td>\n",
              "      <td>0</td>\n",
              "      <td>0</td>\n",
              "      <td>13.0</td>\n",
              "      <td>61.0</td>\n",
              "      <td>2</td>\n",
              "      <td>4.0</td>\n",
              "      <td>3</td>\n",
              "      <td>0</td>\n",
              "      <td>37</td>\n",
              "      <td>50</td>\n",
              "      <td>0.0</td>\n",
              "      <td>0</td>\n",
              "      <td>1.0</td>\n",
              "      <td>-1.0</td>\n",
              "      <td>-1.0</td>\n",
              "      <td>-1.0</td>\n",
              "      <td>610</td>\n",
              "      <td>3.814754</td>\n",
              "      <td>0</td>\n",
              "      <td>0</td>\n",
              "      <td>0</td>\n",
              "    </tr>\n",
              "    <tr>\n",
              "      <th>865</th>\n",
              "      <td>11.0</td>\n",
              "      <td>10</td>\n",
              "      <td>0</td>\n",
              "      <td>1000</td>\n",
              "      <td>0</td>\n",
              "      <td>4.0</td>\n",
              "      <td>357</td>\n",
              "      <td>0</td>\n",
              "      <td>0</td>\n",
              "      <td>0</td>\n",
              "      <td>0</td>\n",
              "      <td>16.0</td>\n",
              "      <td>36.0</td>\n",
              "      <td>50</td>\n",
              "      <td>4.0</td>\n",
              "      <td>2</td>\n",
              "      <td>0</td>\n",
              "      <td>41</td>\n",
              "      <td>50</td>\n",
              "      <td>0.0</td>\n",
              "      <td>0</td>\n",
              "      <td>1.0</td>\n",
              "      <td>147.0</td>\n",
              "      <td>323.0</td>\n",
              "      <td>366.0</td>\n",
              "      <td>39381</td>\n",
              "      <td>4.066326</td>\n",
              "      <td>0</td>\n",
              "      <td>0</td>\n",
              "      <td>0</td>\n",
              "    </tr>\n",
              "    <tr>\n",
              "      <th>846</th>\n",
              "      <td>5.0</td>\n",
              "      <td>5</td>\n",
              "      <td>0</td>\n",
              "      <td>1000</td>\n",
              "      <td>0</td>\n",
              "      <td>4.0</td>\n",
              "      <td>197</td>\n",
              "      <td>0</td>\n",
              "      <td>0</td>\n",
              "      <td>0</td>\n",
              "      <td>0</td>\n",
              "      <td>63.0</td>\n",
              "      <td>31.0</td>\n",
              "      <td>50</td>\n",
              "      <td>4.0</td>\n",
              "      <td>2</td>\n",
              "      <td>0</td>\n",
              "      <td>39</td>\n",
              "      <td>50</td>\n",
              "      <td>0.0</td>\n",
              "      <td>0</td>\n",
              "      <td>1.0</td>\n",
              "      <td>-1.0</td>\n",
              "      <td>-1.0</td>\n",
              "      <td>-1.0</td>\n",
              "      <td>2610</td>\n",
              "      <td>4.158238</td>\n",
              "      <td>0</td>\n",
              "      <td>0</td>\n",
              "      <td>0</td>\n",
              "    </tr>\n",
              "    <tr>\n",
              "      <th>395</th>\n",
              "      <td>9.0</td>\n",
              "      <td>8</td>\n",
              "      <td>0</td>\n",
              "      <td>5000</td>\n",
              "      <td>0</td>\n",
              "      <td>4.0</td>\n",
              "      <td>613</td>\n",
              "      <td>0</td>\n",
              "      <td>0</td>\n",
              "      <td>0</td>\n",
              "      <td>0</td>\n",
              "      <td>56.0</td>\n",
              "      <td>61.0</td>\n",
              "      <td>50</td>\n",
              "      <td>4.0</td>\n",
              "      <td>3</td>\n",
              "      <td>0</td>\n",
              "      <td>21</td>\n",
              "      <td>50</td>\n",
              "      <td>0.0</td>\n",
              "      <td>0</td>\n",
              "      <td>1.0</td>\n",
              "      <td>-1.0</td>\n",
              "      <td>-1.0</td>\n",
              "      <td>-1.0</td>\n",
              "      <td>4335</td>\n",
              "      <td>4.057209</td>\n",
              "      <td>0</td>\n",
              "      <td>0</td>\n",
              "      <td>0</td>\n",
              "    </tr>\n",
              "    <tr>\n",
              "      <th>1045</th>\n",
              "      <td>8.0</td>\n",
              "      <td>9</td>\n",
              "      <td>0</td>\n",
              "      <td>1000</td>\n",
              "      <td>0</td>\n",
              "      <td>4.0</td>\n",
              "      <td>117</td>\n",
              "      <td>0</td>\n",
              "      <td>0</td>\n",
              "      <td>0</td>\n",
              "      <td>0</td>\n",
              "      <td>54.0</td>\n",
              "      <td>31.0</td>\n",
              "      <td>50</td>\n",
              "      <td>4.0</td>\n",
              "      <td>3</td>\n",
              "      <td>0</td>\n",
              "      <td>41</td>\n",
              "      <td>50</td>\n",
              "      <td>0.0</td>\n",
              "      <td>0</td>\n",
              "      <td>1.0</td>\n",
              "      <td>242.0</td>\n",
              "      <td>17.0</td>\n",
              "      <td>313.0</td>\n",
              "      <td>23832</td>\n",
              "      <td>4.020435</td>\n",
              "      <td>0</td>\n",
              "      <td>0</td>\n",
              "      <td>0</td>\n",
              "    </tr>\n",
              "  </tbody>\n",
              "</table>\n",
              "<p>334 rows × 30 columns</p>\n",
              "</div>"
            ],
            "text/plain": [
              "      price  retail_price  ...  theme  crawl_month\n",
              "1049    9.0            50  ...      0            0\n",
              "748    16.0            14  ...      0            0\n",
              "197     6.0             6  ...      0            0\n",
              "331     8.0             7  ...      0            0\n",
              "655     7.0             6  ...      0            0\n",
              "...     ...           ...  ...    ...          ...\n",
              "489     8.0             7  ...      0            0\n",
              "865    11.0            10  ...      0            0\n",
              "846     5.0             5  ...      0            0\n",
              "395     9.0             8  ...      0            0\n",
              "1045    8.0             9  ...      0            0\n",
              "\n",
              "[334 rows x 30 columns]"
            ]
          },
          "metadata": {},
          "execution_count": 229
        }
      ]
    },
    {
      "cell_type": "code",
      "metadata": {
        "id": "jUyefbwjisDA"
      },
      "source": [
        "# The y or target variable will be the rating column\n",
        "tr_y = tr['rating']\n",
        "# The x or features will be every column except rating\n",
        "tr_x = tr.drop('rating', axis=1)"
      ],
      "execution_count": 230,
      "outputs": []
    },
    {
      "cell_type": "markdown",
      "metadata": {
        "id": "2oRZ9eGmUFzZ"
      },
      "source": [
        "The model we are using to train is LogisticRegression."
      ]
    },
    {
      "cell_type": "code",
      "metadata": {
        "colab": {
          "base_uri": "https://localhost:8080/"
        },
        "id": "qJqR0ojTm6k6",
        "outputId": "a2340e34-60f9-48e2-f1fc-1472e7b2a6bf"
      },
      "source": [
        "clf = LogisticRegression().fit(tr_x, tr_y)"
      ],
      "execution_count": 231,
      "outputs": [
        {
          "output_type": "stream",
          "name": "stderr",
          "text": [
            "/usr/local/lib/python3.7/dist-packages/sklearn/linear_model/_logistic.py:940: ConvergenceWarning: lbfgs failed to converge (status=1):\n",
            "STOP: TOTAL NO. of ITERATIONS REACHED LIMIT.\n",
            "\n",
            "Increase the number of iterations (max_iter) or scale the data as shown in:\n",
            "    https://scikit-learn.org/stable/modules/preprocessing.html\n",
            "Please also refer to the documentation for alternative solver options:\n",
            "    https://scikit-learn.org/stable/modules/linear_model.html#logistic-regression\n",
            "  extra_warning_msg=_LOGISTIC_SOLVER_CONVERGENCE_MSG)\n"
          ]
        }
      ]
    },
    {
      "cell_type": "code",
      "metadata": {
        "id": "9KyTS_Rtm9hm"
      },
      "source": [
        "# Similar to how we extracted x and y from the training data, we will do the same for validation data\n",
        "val_y = val['rating']\n",
        "val_x = val.drop('rating', axis=1)\n",
        "pred_val = clf.predict(val_x)"
      ],
      "execution_count": 232,
      "outputs": []
    },
    {
      "cell_type": "code",
      "metadata": {
        "colab": {
          "base_uri": "https://localhost:8080/"
        },
        "id": "d7s-uC5RnJQg",
        "outputId": "721b39ad-36d6-47eb-c313-82ace6be0e98"
      },
      "source": [
        "# F1 score is a weighted measure of accuracy. This can be our metric for evaluation.\n",
        "val_score = f1_score(val_y, pred_val, average='micro')\n",
        "# Let's check our baseline\n",
        "print(val_score)"
      ],
      "execution_count": 233,
      "outputs": [
        {
          "output_type": "stream",
          "name": "stdout",
          "text": [
            "0.6976047904191617\n"
          ]
        }
      ]
    },
    {
      "cell_type": "markdown",
      "metadata": {
        "id": "l6vn-UCBszNA"
      },
      "source": [
        "Going through the entire process, I have a few important observations.\n",
        "1. The validation data is split from the data through random sampling, and the ratio of training data to validation data is 70-30.\n",
        "2. Categorical encoding was used to on non-numeric columns\n",
        "3. Logistic regression was used with no regularization or constraints\n",
        "\n",
        "Let's think about what we can change for trial 1.\n",
        "\n",
        "Let's see which features are not particularly related to the rating. We can observe this by looking at the correlation matrix and observing the rating column."
      ]
    },
    {
      "cell_type": "markdown",
      "metadata": {
        "id": "rcdvTaPl7x1N"
      },
      "source": [
        "## Trial 1"
      ]
    },
    {
      "cell_type": "markdown",
      "metadata": {
        "id": "IaU63_NhmBNj"
      },
      "source": [
        "The first problem is that we have too many features and not all of them are best suited for this classification task. \n",
        "\n",
        "I am not sure what the best approach of reducing features is but perhaps we can start with observing correlations."
      ]
    },
    {
      "cell_type": "code",
      "metadata": {
        "colab": {
          "base_uri": "https://localhost:8080/"
        },
        "id": "-4knJaC11QsL",
        "outputId": "58933de5-dea8-43da-a4a8-9c7ff0fd8e5c"
      },
      "source": [
        "tr.corr()['rating'].apply(abs).sort_values()"
      ],
      "execution_count": 234,
      "outputs": [
        {
          "output_type": "execute_result",
          "data": {
            "text/plain": [
              "shipping_is_express             0.000902\n",
              "uses_ad_boosts                  0.001883\n",
              "badge_local_product             0.002224\n",
              "merchant_has_profile_picture    0.013531\n",
              "urgency_text                    0.015481\n",
              "has_urgency_banner              0.015637\n",
              "countries_shipped_to            0.018149\n",
              "badge_fast_shipping             0.019665\n",
              "merchant_title                  0.021641\n",
              "units_sold                      0.025774\n",
              "merchant_name                   0.028643\n",
              "shipping_option_name            0.031221\n",
              "rating_count                    0.041481\n",
              "product_variation_inventory     0.065737\n",
              "merchant_rating_count           0.070600\n",
              "inventory_total                 0.082831\n",
              "product_variation_size_id       0.095825\n",
              "retail_price                    0.099185\n",
              "origin_country                  0.106885\n",
              "product_color                   0.108771\n",
              "merchant_info_subtitle          0.165314\n",
              "shipping_option_price           0.192024\n",
              "price                           0.225098\n",
              "badges_count                    0.231472\n",
              "merchant_rating                 0.239791\n",
              "badge_product_quality           0.297357\n",
              "rating                          1.000000\n",
              "currency_buyer                       NaN\n",
              "theme                                NaN\n",
              "crawl_month                          NaN\n",
              "Name: rating, dtype: float64"
            ]
          },
          "metadata": {},
          "execution_count": 234
        }
      ]
    },
    {
      "cell_type": "markdown",
      "metadata": {
        "id": "6sHPPRQT2iyl"
      },
      "source": [
        "We can observe that there is low correlation between rating and some features whereas some others have `NaN`. Training with these features may cause overfitting so let's try dropping the five least correlated features."
      ]
    },
    {
      "cell_type": "code",
      "metadata": {
        "colab": {
          "base_uri": "https://localhost:8080/"
        },
        "id": "TLLaa88x2iXR",
        "outputId": "26455f60-7a6b-47dd-ade2-04e185ef2d12"
      },
      "source": [
        "sorted_correlations = tr.corr()['rating'].fillna(0).apply(abs).sort_values()\n",
        "least_correlated = sorted_correlations[:5]\n",
        "least_correlated"
      ],
      "execution_count": 235,
      "outputs": [
        {
          "output_type": "execute_result",
          "data": {
            "text/plain": [
              "crawl_month            0.000000\n",
              "currency_buyer         0.000000\n",
              "theme                  0.000000\n",
              "shipping_is_express    0.000902\n",
              "uses_ad_boosts         0.001883\n",
              "Name: rating, dtype: float64"
            ]
          },
          "metadata": {},
          "execution_count": 235
        }
      ]
    },
    {
      "cell_type": "code",
      "metadata": {
        "id": "ZMm6e5fU3ffx"
      },
      "source": [
        "tr = tr.drop([*(least_correlated.index)], axis=1)\n"
      ],
      "execution_count": 236,
      "outputs": []
    },
    {
      "cell_type": "markdown",
      "metadata": {
        "id": "4FELAvJwUTe5"
      },
      "source": [
        "We need to drop the same columns on the validation set."
      ]
    },
    {
      "cell_type": "code",
      "metadata": {
        "id": "csmq13zz5QxX"
      },
      "source": [
        "val = val.drop([*(least_correlated.index)], axis=1)"
      ],
      "execution_count": 237,
      "outputs": []
    },
    {
      "cell_type": "markdown",
      "metadata": {
        "id": "-DURm4KwUa0E"
      },
      "source": [
        "Just like before let's train the LogisticRegression."
      ]
    },
    {
      "cell_type": "code",
      "metadata": {
        "colab": {
          "base_uri": "https://localhost:8080/"
        },
        "id": "ftoGcU5f7KT-",
        "outputId": "079ea163-078b-4d01-d1b5-8cddb6d5f289"
      },
      "source": [
        "tr_y = tr['rating']\n",
        "tr_x = tr.drop('rating', axis=1)\n",
        "clf = LogisticRegression().fit(tr_x, tr_y)"
      ],
      "execution_count": 238,
      "outputs": [
        {
          "output_type": "stream",
          "name": "stderr",
          "text": [
            "/usr/local/lib/python3.7/dist-packages/sklearn/linear_model/_logistic.py:940: ConvergenceWarning: lbfgs failed to converge (status=1):\n",
            "STOP: TOTAL NO. of ITERATIONS REACHED LIMIT.\n",
            "\n",
            "Increase the number of iterations (max_iter) or scale the data as shown in:\n",
            "    https://scikit-learn.org/stable/modules/preprocessing.html\n",
            "Please also refer to the documentation for alternative solver options:\n",
            "    https://scikit-learn.org/stable/modules/linear_model.html#logistic-regression\n",
            "  extra_warning_msg=_LOGISTIC_SOLVER_CONVERGENCE_MSG)\n"
          ]
        }
      ]
    },
    {
      "cell_type": "code",
      "metadata": {
        "id": "BCTr7-LA7VFE"
      },
      "source": [
        "val_y = val['rating']\n",
        "val_x = val.drop('rating', axis=1)\n",
        "pred_val = clf.predict(val_x)"
      ],
      "execution_count": 239,
      "outputs": []
    },
    {
      "cell_type": "code",
      "metadata": {
        "colab": {
          "base_uri": "https://localhost:8080/"
        },
        "id": "g9j5j1bs7ebE",
        "outputId": "7c602b7a-07f8-4fd5-ffdc-281fff3d06d7"
      },
      "source": [
        "val_score = f1_score(val_y, pred_val, average='micro')\n",
        "print(val_score)"
      ],
      "execution_count": 240,
      "outputs": [
        {
          "output_type": "stream",
          "name": "stdout",
          "text": [
            "0.7065868263473054\n"
          ]
        }
      ]
    },
    {
      "cell_type": "markdown",
      "metadata": {
        "id": "NYMAwqQO73Y8"
      },
      "source": [
        "So our accuracy did not particularly change even though we dropped 5 columns. This is a good sign, as we reduced the complexity of our model without loss of accuracy."
      ]
    },
    {
      "cell_type": "markdown",
      "metadata": {
        "id": "EDCMVcAtkoW6"
      },
      "source": [
        "## Trial 2"
      ]
    },
    {
      "cell_type": "markdown",
      "metadata": {
        "id": "tqGKzYzWm7FC"
      },
      "source": [
        "Let's take this one step further and drop all columns below a certain threshold of correlation."
      ]
    },
    {
      "cell_type": "code",
      "metadata": {
        "id": "9ihODqKo7_x8",
        "colab": {
          "base_uri": "https://localhost:8080/"
        },
        "outputId": "21e7d7f3-c94a-47ea-9a54-065db32ec95a"
      },
      "source": [
        "# recreate the data sets\n",
        "tr = data[msk]\n",
        "val = data[~msk]\n",
        "tr[cat_cols] = tr[cat_cols].apply(lambda col: cat_digit(col))\n",
        "val[cat_cols] = val[cat_cols].apply(lambda col: col.map(dict_cat[col.name]))\n",
        "val = val.fillna(-1)\n",
        "\n",
        "feature_correlation_threshold = 0.04 # new hyperparam"
      ],
      "execution_count": 302,
      "outputs": [
        {
          "output_type": "stream",
          "name": "stderr",
          "text": [
            "/usr/local/lib/python3.7/dist-packages/pandas/core/frame.py:3069: SettingWithCopyWarning: \n",
            "A value is trying to be set on a copy of a slice from a DataFrame.\n",
            "Try using .loc[row_indexer,col_indexer] = value instead\n",
            "\n",
            "See the caveats in the documentation: https://pandas.pydata.org/pandas-docs/stable/user_guide/indexing.html#returning-a-view-versus-a-copy\n",
            "  self[k1] = value[k2]\n"
          ]
        }
      ]
    },
    {
      "cell_type": "code",
      "metadata": {
        "colab": {
          "base_uri": "https://localhost:8080/"
        },
        "id": "doyyNelVASqA",
        "outputId": "e7a6fd9d-f3c5-4ba0-82f7-8192a8de48b4"
      },
      "source": [
        "tr.corr()['rating'].fillna(0).apply(abs).sort_values()"
      ],
      "execution_count": 304,
      "outputs": [
        {
          "output_type": "execute_result",
          "data": {
            "text/plain": [
              "crawl_month                     0.000000\n",
              "currency_buyer                  0.000000\n",
              "theme                           0.000000\n",
              "shipping_is_express             0.000902\n",
              "uses_ad_boosts                  0.001883\n",
              "badge_local_product             0.002224\n",
              "merchant_has_profile_picture    0.013531\n",
              "urgency_text                    0.015481\n",
              "has_urgency_banner              0.015637\n",
              "countries_shipped_to            0.018149\n",
              "badge_fast_shipping             0.019665\n",
              "merchant_title                  0.021641\n",
              "units_sold                      0.025774\n",
              "merchant_name                   0.028643\n",
              "shipping_option_name            0.031221\n",
              "rating_count                    0.041481\n",
              "product_variation_inventory     0.065737\n",
              "merchant_rating_count           0.070600\n",
              "inventory_total                 0.082831\n",
              "product_variation_size_id       0.095825\n",
              "retail_price                    0.099185\n",
              "origin_country                  0.106885\n",
              "product_color                   0.108771\n",
              "merchant_info_subtitle          0.165314\n",
              "shipping_option_price           0.192024\n",
              "price                           0.225098\n",
              "badges_count                    0.231472\n",
              "merchant_rating                 0.239791\n",
              "badge_product_quality           0.297357\n",
              "rating                          1.000000\n",
              "Name: rating, dtype: float64"
            ]
          },
          "metadata": {},
          "execution_count": 304
        }
      ]
    },
    {
      "cell_type": "code",
      "metadata": {
        "colab": {
          "base_uri": "https://localhost:8080/"
        },
        "id": "XSHAjYBRlIw0",
        "outputId": "a90ec3f1-3a5c-4de0-a863-44a796979a05"
      },
      "source": [
        "# this time we use a condition to determine which columns are unrelated\n",
        "above_correlation_thresh = tr.corr()['rating'].fillna(0).apply(abs) >= feature_correlation_threshold\n",
        "least_correlated = above_correlation_thresh[above_correlation_thresh == False].index\n",
        "least_correlated"
      ],
      "execution_count": 308,
      "outputs": [
        {
          "output_type": "execute_result",
          "data": {
            "text/plain": [
              "Index(['currency_buyer', 'units_sold', 'uses_ad_boosts', 'badge_local_product',\n",
              "       'badge_fast_shipping', 'shipping_option_name', 'shipping_is_express',\n",
              "       'countries_shipped_to', 'has_urgency_banner', 'urgency_text',\n",
              "       'merchant_title', 'merchant_name', 'merchant_has_profile_picture',\n",
              "       'theme', 'crawl_month'],\n",
              "      dtype='object')"
            ]
          },
          "metadata": {},
          "execution_count": 308
        }
      ]
    },
    {
      "cell_type": "code",
      "metadata": {
        "id": "jqy8qayZlZUJ"
      },
      "source": [
        "tr = tr.drop([*least_correlated], axis=1)\n",
        "val = val.drop([*least_correlated], axis=1)"
      ],
      "execution_count": 309,
      "outputs": []
    },
    {
      "cell_type": "code",
      "metadata": {
        "colab": {
          "base_uri": "https://localhost:8080/",
          "height": 444
        },
        "id": "07lP_8B1lfHn",
        "outputId": "be003180-59ec-48a0-d31a-ead8ef5f3f91"
      },
      "source": [
        "tr"
      ],
      "execution_count": 310,
      "outputs": [
        {
          "output_type": "execute_result",
          "data": {
            "text/html": [
              "<div>\n",
              "<style scoped>\n",
              "    .dataframe tbody tr th:only-of-type {\n",
              "        vertical-align: middle;\n",
              "    }\n",
              "\n",
              "    .dataframe tbody tr th {\n",
              "        vertical-align: top;\n",
              "    }\n",
              "\n",
              "    .dataframe thead th {\n",
              "        text-align: right;\n",
              "    }\n",
              "</style>\n",
              "<table border=\"1\" class=\"dataframe\">\n",
              "  <thead>\n",
              "    <tr style=\"text-align: right;\">\n",
              "      <th></th>\n",
              "      <th>price</th>\n",
              "      <th>retail_price</th>\n",
              "      <th>rating</th>\n",
              "      <th>rating_count</th>\n",
              "      <th>badges_count</th>\n",
              "      <th>badge_product_quality</th>\n",
              "      <th>product_color</th>\n",
              "      <th>product_variation_size_id</th>\n",
              "      <th>product_variation_inventory</th>\n",
              "      <th>shipping_option_price</th>\n",
              "      <th>inventory_total</th>\n",
              "      <th>origin_country</th>\n",
              "      <th>merchant_info_subtitle</th>\n",
              "      <th>merchant_rating_count</th>\n",
              "      <th>merchant_rating</th>\n",
              "    </tr>\n",
              "  </thead>\n",
              "  <tbody>\n",
              "    <tr>\n",
              "      <th>803</th>\n",
              "      <td>8.00</td>\n",
              "      <td>59</td>\n",
              "      <td>4.0</td>\n",
              "      <td>45</td>\n",
              "      <td>0</td>\n",
              "      <td>0</td>\n",
              "      <td>29</td>\n",
              "      <td>61</td>\n",
              "      <td>5</td>\n",
              "      <td>3</td>\n",
              "      <td>50</td>\n",
              "      <td>1</td>\n",
              "      <td>223</td>\n",
              "      <td>58154</td>\n",
              "      <td>3.871359</td>\n",
              "    </tr>\n",
              "    <tr>\n",
              "      <th>641</th>\n",
              "      <td>12.00</td>\n",
              "      <td>17</td>\n",
              "      <td>4.0</td>\n",
              "      <td>103</td>\n",
              "      <td>0</td>\n",
              "      <td>0</td>\n",
              "      <td>63</td>\n",
              "      <td>31</td>\n",
              "      <td>50</td>\n",
              "      <td>3</td>\n",
              "      <td>50</td>\n",
              "      <td>1</td>\n",
              "      <td>212</td>\n",
              "      <td>20478</td>\n",
              "      <td>3.910343</td>\n",
              "    </tr>\n",
              "    <tr>\n",
              "      <th>473</th>\n",
              "      <td>14.00</td>\n",
              "      <td>12</td>\n",
              "      <td>4.0</td>\n",
              "      <td>186</td>\n",
              "      <td>0</td>\n",
              "      <td>0</td>\n",
              "      <td>22</td>\n",
              "      <td>56</td>\n",
              "      <td>10</td>\n",
              "      <td>4</td>\n",
              "      <td>50</td>\n",
              "      <td>1</td>\n",
              "      <td>154</td>\n",
              "      <td>288</td>\n",
              "      <td>3.729167</td>\n",
              "    </tr>\n",
              "    <tr>\n",
              "      <th>993</th>\n",
              "      <td>5.92</td>\n",
              "      <td>9</td>\n",
              "      <td>4.0</td>\n",
              "      <td>17</td>\n",
              "      <td>0</td>\n",
              "      <td>0</td>\n",
              "      <td>16</td>\n",
              "      <td>61</td>\n",
              "      <td>18</td>\n",
              "      <td>1</td>\n",
              "      <td>50</td>\n",
              "      <td>1</td>\n",
              "      <td>495</td>\n",
              "      <td>5106</td>\n",
              "      <td>4.212887</td>\n",
              "    </tr>\n",
              "    <tr>\n",
              "      <th>1091</th>\n",
              "      <td>9.00</td>\n",
              "      <td>48</td>\n",
              "      <td>4.0</td>\n",
              "      <td>135</td>\n",
              "      <td>0</td>\n",
              "      <td>0</td>\n",
              "      <td>54</td>\n",
              "      <td>31</td>\n",
              "      <td>50</td>\n",
              "      <td>3</td>\n",
              "      <td>50</td>\n",
              "      <td>1</td>\n",
              "      <td>155</td>\n",
              "      <td>6632</td>\n",
              "      <td>3.748794</td>\n",
              "    </tr>\n",
              "    <tr>\n",
              "      <th>...</th>\n",
              "      <td>...</td>\n",
              "      <td>...</td>\n",
              "      <td>...</td>\n",
              "      <td>...</td>\n",
              "      <td>...</td>\n",
              "      <td>...</td>\n",
              "      <td>...</td>\n",
              "      <td>...</td>\n",
              "      <td>...</td>\n",
              "      <td>...</td>\n",
              "      <td>...</td>\n",
              "      <td>...</td>\n",
              "      <td>...</td>\n",
              "      <td>...</td>\n",
              "      <td>...</td>\n",
              "    </tr>\n",
              "    <tr>\n",
              "      <th>32</th>\n",
              "      <td>8.00</td>\n",
              "      <td>7</td>\n",
              "      <td>4.0</td>\n",
              "      <td>5641</td>\n",
              "      <td>0</td>\n",
              "      <td>0</td>\n",
              "      <td>44</td>\n",
              "      <td>64</td>\n",
              "      <td>50</td>\n",
              "      <td>2</td>\n",
              "      <td>50</td>\n",
              "      <td>1</td>\n",
              "      <td>113</td>\n",
              "      <td>70773</td>\n",
              "      <td>4.038320</td>\n",
              "    </tr>\n",
              "    <tr>\n",
              "      <th>594</th>\n",
              "      <td>12.00</td>\n",
              "      <td>11</td>\n",
              "      <td>4.0</td>\n",
              "      <td>171</td>\n",
              "      <td>0</td>\n",
              "      <td>0</td>\n",
              "      <td>63</td>\n",
              "      <td>36</td>\n",
              "      <td>7</td>\n",
              "      <td>3</td>\n",
              "      <td>50</td>\n",
              "      <td>1</td>\n",
              "      <td>456</td>\n",
              "      <td>4811</td>\n",
              "      <td>4.194554</td>\n",
              "    </tr>\n",
              "    <tr>\n",
              "      <th>449</th>\n",
              "      <td>5.85</td>\n",
              "      <td>13</td>\n",
              "      <td>3.0</td>\n",
              "      <td>602</td>\n",
              "      <td>0</td>\n",
              "      <td>0</td>\n",
              "      <td>16</td>\n",
              "      <td>61</td>\n",
              "      <td>9</td>\n",
              "      <td>2</td>\n",
              "      <td>50</td>\n",
              "      <td>1</td>\n",
              "      <td>215</td>\n",
              "      <td>25631</td>\n",
              "      <td>3.894737</td>\n",
              "    </tr>\n",
              "    <tr>\n",
              "      <th>576</th>\n",
              "      <td>14.00</td>\n",
              "      <td>76</td>\n",
              "      <td>4.0</td>\n",
              "      <td>31</td>\n",
              "      <td>0</td>\n",
              "      <td>0</td>\n",
              "      <td>0</td>\n",
              "      <td>36</td>\n",
              "      <td>50</td>\n",
              "      <td>4</td>\n",
              "      <td>50</td>\n",
              "      <td>1</td>\n",
              "      <td>288</td>\n",
              "      <td>51369</td>\n",
              "      <td>3.968269</td>\n",
              "    </tr>\n",
              "    <tr>\n",
              "      <th>135</th>\n",
              "      <td>12.00</td>\n",
              "      <td>11</td>\n",
              "      <td>4.0</td>\n",
              "      <td>37</td>\n",
              "      <td>0</td>\n",
              "      <td>0</td>\n",
              "      <td>63</td>\n",
              "      <td>36</td>\n",
              "      <td>50</td>\n",
              "      <td>3</td>\n",
              "      <td>50</td>\n",
              "      <td>1</td>\n",
              "      <td>158</td>\n",
              "      <td>1452</td>\n",
              "      <td>3.735537</td>\n",
              "    </tr>\n",
              "  </tbody>\n",
              "</table>\n",
              "<p>759 rows × 15 columns</p>\n",
              "</div>"
            ],
            "text/plain": [
              "      price  retail_price  ...  merchant_rating_count  merchant_rating\n",
              "803    8.00            59  ...                  58154         3.871359\n",
              "641   12.00            17  ...                  20478         3.910343\n",
              "473   14.00            12  ...                    288         3.729167\n",
              "993    5.92             9  ...                   5106         4.212887\n",
              "1091   9.00            48  ...                   6632         3.748794\n",
              "...     ...           ...  ...                    ...              ...\n",
              "32     8.00             7  ...                  70773         4.038320\n",
              "594   12.00            11  ...                   4811         4.194554\n",
              "449    5.85            13  ...                  25631         3.894737\n",
              "576   14.00            76  ...                  51369         3.968269\n",
              "135   12.00            11  ...                   1452         3.735537\n",
              "\n",
              "[759 rows x 15 columns]"
            ]
          },
          "metadata": {},
          "execution_count": 310
        }
      ]
    },
    {
      "cell_type": "code",
      "metadata": {
        "colab": {
          "base_uri": "https://localhost:8080/"
        },
        "id": "gTFm3Rvkn2H8",
        "outputId": "ebbcc9b2-b7e7-447e-c9f4-a99e017fa571"
      },
      "source": [
        "tr_y = tr['rating']\n",
        "tr_x = tr.drop('rating', axis=1)\n",
        "clf = LogisticRegression().fit(tr_x, tr_y)"
      ],
      "execution_count": 311,
      "outputs": [
        {
          "output_type": "stream",
          "name": "stderr",
          "text": [
            "/usr/local/lib/python3.7/dist-packages/sklearn/linear_model/_logistic.py:940: ConvergenceWarning: lbfgs failed to converge (status=1):\n",
            "STOP: TOTAL NO. of ITERATIONS REACHED LIMIT.\n",
            "\n",
            "Increase the number of iterations (max_iter) or scale the data as shown in:\n",
            "    https://scikit-learn.org/stable/modules/preprocessing.html\n",
            "Please also refer to the documentation for alternative solver options:\n",
            "    https://scikit-learn.org/stable/modules/linear_model.html#logistic-regression\n",
            "  extra_warning_msg=_LOGISTIC_SOLVER_CONVERGENCE_MSG)\n"
          ]
        }
      ]
    },
    {
      "cell_type": "code",
      "metadata": {
        "id": "AxGyJYlAoqOE"
      },
      "source": [
        "val_y = val['rating']\n",
        "val_x = val.drop('rating', axis=1)\n",
        "pred_val = clf.predict(val_x)"
      ],
      "execution_count": 312,
      "outputs": []
    },
    {
      "cell_type": "code",
      "metadata": {
        "colab": {
          "base_uri": "https://localhost:8080/"
        },
        "id": "oZ8Kxpt6orIk",
        "outputId": "c98c1768-5939-481b-c60f-f0a8bfbf376e"
      },
      "source": [
        "val_score = f1_score(val_y, pred_val, average='micro')\n",
        "print(val_score)"
      ],
      "execution_count": 313,
      "outputs": [
        {
          "output_type": "stream",
          "name": "stdout",
          "text": [
            "0.7275449101796408\n"
          ]
        }
      ]
    },
    {
      "cell_type": "markdown",
      "metadata": {
        "id": "4V1p3E6opC25"
      },
      "source": [
        "Some improvement 🤷‍♀️. This shows a lot of the features were simply adding noise to the model. Now we are still facing some issues with Logistic Regression so let's see if we can improve on that."
      ]
    },
    {
      "cell_type": "markdown",
      "metadata": {
        "id": "wXbYJ4KDuOfg"
      },
      "source": [
        "# Trial 3\n",
        "\n",
        "One observation throughout the process is that the everytime we run `fit`, we get a warning that says `ConvergenceWarning: lbfgs failed to converge (status=1):\n",
        "STOP: TOTAL NO. of ITERATIONS REACHED LIMIT.` The warning also suggests that we do some preprocessing.\n",
        "\n",
        "So let's do some scaling before we train with our data. ⚖️"
      ]
    },
    {
      "cell_type": "code",
      "metadata": {
        "id": "zHl4JHcNH5BH"
      },
      "source": [
        "def scale_x(tr_x, val_x):\n",
        "  sc = StandardScaler()\n",
        "  tr_x_scaled = sc.fit_transform(tr_x)\n",
        "  val_x_scaled = sc.transform(val_x)\n",
        "  return tr_x_scaled, val_x_scaled, sc"
      ],
      "execution_count": 248,
      "outputs": []
    },
    {
      "cell_type": "markdown",
      "metadata": {
        "id": "EmUJfra4I7fD"
      },
      "source": [
        "Let's check how our scaled data looks like."
      ]
    },
    {
      "cell_type": "code",
      "metadata": {
        "id": "HoxAz5eHLmN0"
      },
      "source": [
        "tr_x_scaled, val_x_scaled,sc = scale_x(tr_x, val_x)"
      ],
      "execution_count": 249,
      "outputs": []
    },
    {
      "cell_type": "markdown",
      "metadata": {
        "id": "dWden2fcU2ZP"
      },
      "source": [
        "The scaled data is an array, not a dataframe. Hence we can preview what it looks like through indexing."
      ]
    },
    {
      "cell_type": "code",
      "metadata": {
        "colab": {
          "base_uri": "https://localhost:8080/"
        },
        "id": "jtWvhhl-LquO",
        "outputId": "8f311d13-8bb8-4188-f24f-11f8d630d31f"
      },
      "source": [
        "tr_x_scaled[:3]"
      ],
      "execution_count": 250,
      "outputs": [
        {
          "output_type": "execute_result",
          "data": {
            "text/plain": [
              "array([[-0.05234539,  1.12871388, -0.4203344 , -0.31667239, -0.3034573 ,\n",
              "        -0.34640061,  1.18170743, -1.28111699,  0.69521194,  0.06381369,\n",
              "        -0.09786223, -0.48583484,  0.29495485, -0.79415813],\n",
              "       [ 1.00073663, -0.20229419, -0.39313653, -0.31667239, -0.3034573 ,\n",
              "         1.12871724, -0.82841346,  0.81229756,  0.69521194,  0.06381369,\n",
              "        -0.09786223, -0.55069206, -0.08247402, -0.60536346],\n",
              "       [ 1.52727764, -0.36074753, -0.35421545, -0.31667239, -0.3034573 ,\n",
              "        -0.65010135,  0.84668728, -1.04851538,  1.69647544,  0.06381369,\n",
              "        -0.09786223, -0.89266647, -0.28473246, -1.48277699]])"
            ]
          },
          "metadata": {},
          "execution_count": 250
        }
      ]
    },
    {
      "cell_type": "markdown",
      "metadata": {
        "id": "2B0NzHCOKbjE"
      },
      "source": [
        "Let's train with this now"
      ]
    },
    {
      "cell_type": "code",
      "metadata": {
        "id": "ohEtT26Tubys",
        "colab": {
          "base_uri": "https://localhost:8080/"
        },
        "outputId": "c169a50e-850c-44e8-b0d2-83c941c62499"
      },
      "source": [
        "clf = LogisticRegression().fit(tr_x_scaled, tr_y)"
      ],
      "execution_count": 252,
      "outputs": [
        {
          "output_type": "stream",
          "name": "stderr",
          "text": [
            "/usr/local/lib/python3.7/dist-packages/sklearn/linear_model/_logistic.py:940: ConvergenceWarning: lbfgs failed to converge (status=1):\n",
            "STOP: TOTAL NO. of ITERATIONS REACHED LIMIT.\n",
            "\n",
            "Increase the number of iterations (max_iter) or scale the data as shown in:\n",
            "    https://scikit-learn.org/stable/modules/preprocessing.html\n",
            "Please also refer to the documentation for alternative solver options:\n",
            "    https://scikit-learn.org/stable/modules/linear_model.html#logistic-regression\n",
            "  extra_warning_msg=_LOGISTIC_SOLVER_CONVERGENCE_MSG)\n"
          ]
        }
      ]
    },
    {
      "cell_type": "markdown",
      "metadata": {
        "id": "D-_unyg2NjiX"
      },
      "source": [
        "We are still getting this warning. Perhaps there is more we need to change."
      ]
    },
    {
      "cell_type": "code",
      "metadata": {
        "colab": {
          "base_uri": "https://localhost:8080/"
        },
        "id": "0K4rTV5OKqCX",
        "outputId": "2e70ab6a-aa20-4a8b-f7ff-153ca9883b04"
      },
      "source": [
        "pred_val = clf.predict(val_x_scaled)\n",
        "val_score = f1_score(val_y, pred_val, average='micro')\n",
        "print(val_score)"
      ],
      "execution_count": 253,
      "outputs": [
        {
          "output_type": "stream",
          "name": "stdout",
          "text": [
            "0.7455089820359282\n"
          ]
        }
      ]
    },
    {
      "cell_type": "markdown",
      "metadata": {
        "id": "TxXaNxO_PGPA"
      },
      "source": [
        "That was barely any change at all 🤦‍♂️\n",
        "\n",
        "Let's peak at the confusion matrix and classification report to see what is going on."
      ]
    },
    {
      "cell_type": "code",
      "metadata": {
        "colab": {
          "base_uri": "https://localhost:8080/",
          "height": 279
        },
        "id": "JqQrALcXRnVa",
        "outputId": "ffc43f99-1493-4245-c897-bd8c14ecc2f5"
      },
      "source": [
        "mat = confusion_matrix(val_y, pred_val)\n",
        "sns.heatmap(mat.T, square=True, annot=True, fmt='d', cbar=False)\n",
        "plt.xlabel('true label')\n",
        "plt.ylabel('predicted label');"
      ],
      "execution_count": 347,
      "outputs": [
        {
          "output_type": "display_data",
          "data": {
            "image/png": "[encoded data removed]",
            "text/plain": [
              "<Figure size 432x288 with 1 Axes>"
            ]
          },
          "metadata": {
            "needs_background": "light"
          }
        }
      ]
    },
    {
      "cell_type": "code",
      "metadata": {
        "colab": {
          "base_uri": "https://localhost:8080/"
        },
        "id": "xBOk2IsLVlA8",
        "outputId": "69883d75-2434-42d1-f443-58edfb697ff8"
      },
      "source": [
        "print(classification_report(val_y, pred_val))"
      ],
      "execution_count": 349,
      "outputs": [
        {
          "output_type": "stream",
          "name": "stdout",
          "text": [
            "              precision    recall  f1-score   support\n",
            "\n",
            "         2.0       0.00      0.00      0.00         2\n",
            "         3.0       0.00      0.00      0.00        36\n",
            "         4.0       0.73      1.00      0.84       243\n",
            "         5.0       0.00      0.00      0.00        53\n",
            "\n",
            "    accuracy                           0.73       334\n",
            "   macro avg       0.18      0.25      0.21       334\n",
            "weighted avg       0.53      0.73      0.61       334\n",
            "\n"
          ]
        },
        {
          "output_type": "stream",
          "name": "stderr",
          "text": [
            "/usr/local/lib/python3.7/dist-packages/sklearn/metrics/_classification.py:1272: UndefinedMetricWarning: Precision and F-score are ill-defined and being set to 0.0 in labels with no predicted samples. Use `zero_division` parameter to control this behavior.\n",
            "  _warn_prf(average, modifier, msg_start, len(result))\n"
          ]
        }
      ]
    },
    {
      "cell_type": "markdown",
      "metadata": {
        "id": "2qmE87DGVYiJ"
      },
      "source": [
        "It appears our model is predicting everything as the mean value of 4. This is not ideal 📉"
      ]
    },
    {
      "cell_type": "markdown",
      "metadata": {
        "id": "vnw4RJN2PQXg"
      },
      "source": [
        "# Trial 4\n",
        "\n",
        "So maybe we are approaching this all wrong. Perhaps the data is not suited to Logistic Regression? Let's try a different model. This is a classification problem and hence we have decision trees and support vector machines at our disposal. Let's try a decision tree based model, RandomForest. For the initial test we will use unscaled data (minus the redundant columns)  "
      ]
    },
    {
      "cell_type": "code",
      "metadata": {
        "id": "CPJ-P2EPPOnc"
      },
      "source": [
        "rfc = RandomForestClassifier()"
      ],
      "execution_count": 255,
      "outputs": []
    },
    {
      "cell_type": "code",
      "metadata": {
        "id": "R-lmJKkOSPur"
      },
      "source": [
        "rfc.fit(tr_x, tr_y)\n",
        "pred_val = rfc.predict(val_x)"
      ],
      "execution_count": 256,
      "outputs": []
    },
    {
      "cell_type": "code",
      "metadata": {
        "colab": {
          "base_uri": "https://localhost:8080/"
        },
        "id": "VLW3c4--VyOW",
        "outputId": "e8a225d7-f0f3-46dc-de6a-f7f633d6de36"
      },
      "source": [
        "val_score = f1_score(val_y, pred_val, average='micro')\n",
        "print(val_score)"
      ],
      "execution_count": 257,
      "outputs": [
        {
          "output_type": "stream",
          "name": "stdout",
          "text": [
            "0.811377245508982\n"
          ]
        }
      ]
    },
    {
      "cell_type": "code",
      "metadata": {
        "colab": {
          "base_uri": "https://localhost:8080/"
        },
        "id": "vn9PuBjkV1B6",
        "outputId": "bf7a73d8-685e-4b45-935d-1248af7343cd"
      },
      "source": [
        "print(classification_report(val_y, pred_val))"
      ],
      "execution_count": 258,
      "outputs": [
        {
          "output_type": "stream",
          "name": "stdout",
          "text": [
            "              precision    recall  f1-score   support\n",
            "\n",
            "         2.0       1.00      0.50      0.67         2\n",
            "         3.0       0.53      0.25      0.34        36\n",
            "         4.0       0.83      0.95      0.89       243\n",
            "         5.0       0.76      0.55      0.64        53\n",
            "\n",
            "    accuracy                           0.81       334\n",
            "   macro avg       0.78      0.56      0.63       334\n",
            "weighted avg       0.79      0.81      0.79       334\n",
            "\n"
          ]
        }
      ]
    },
    {
      "cell_type": "markdown",
      "metadata": {
        "id": "bBxuAyUjWjKD"
      },
      "source": [
        "Okay, so without any hyperparameter tweaking we already have a good accuracy. However this model is likely to overfitted to the training data. Let's improve our model a bit by making it more robust and maintainable."
      ]
    },
    {
      "cell_type": "markdown",
      "metadata": {
        "id": "k11wjOBgY9Hv"
      },
      "source": [
        "## Trial 5"
      ]
    },
    {
      "cell_type": "markdown",
      "metadata": {
        "id": "yzRThYkzaKsj"
      },
      "source": [
        "One thing we can do is tweak the hyperparameters of a RandomForest 👾👾👾\n",
        "\n",
        "Let's write a function that initializes a random forest with some sensible hyperparams. "
      ]
    },
    {
      "cell_type": "code",
      "metadata": {
        "id": "I8cmjM_XY7PM"
      },
      "source": [
        "def rf(xs, y, n_estimators=50, max_samples=600,\n",
        "       max_features=0.5, min_samples_leaf=5, max_leaf_nodes=400, **kwargs):\n",
        "    return RandomForestClassifier(n_jobs=-1, n_estimators=n_estimators,\n",
        "        max_samples=max_samples, max_features=max_features,\n",
        "        min_samples_leaf=min_samples_leaf, max_leaf_nodes=max_leaf_nodes, oob_score=True).fit(xs, y)"
      ],
      "execution_count": 259,
      "outputs": []
    },
    {
      "cell_type": "code",
      "metadata": {
        "id": "datDWZolaaaS"
      },
      "source": [
        "rfc = rf(tr_x, tr_y, )"
      ],
      "execution_count": 260,
      "outputs": []
    },
    {
      "cell_type": "code",
      "metadata": {
        "id": "JHB4_CsCall-"
      },
      "source": [
        "def get_f1_accuracy(m, val_x, val_y):\n",
        "  pred_val = m.predict(val_x)\n",
        "  return f1_score(val_y, pred_val, average='micro')"
      ],
      "execution_count": 261,
      "outputs": []
    },
    {
      "cell_type": "code",
      "metadata": {
        "colab": {
          "base_uri": "https://localhost:8080/"
        },
        "id": "UGll-ipBbFNy",
        "outputId": "f0b9aa96-94eb-456d-caff-7be13f961953"
      },
      "source": [
        "get_f1_accuracy(rfc, val_x, val_y)"
      ],
      "execution_count": 262,
      "outputs": [
        {
          "output_type": "execute_result",
          "data": {
            "text/plain": [
              "0.7784431137724551"
            ]
          },
          "metadata": {},
          "execution_count": 262
        }
      ]
    },
    {
      "cell_type": "markdown",
      "metadata": {
        "id": "8gSSEr-ncL7p"
      },
      "source": [
        "So this is a bit finicky because I ran this step lots of times and sometimes I got improvements in performance and sometimes I did not. This indicates I will need to experiment a bit more with the hyperparameters."
      ]
    },
    {
      "cell_type": "code",
      "metadata": {
        "colab": {
          "base_uri": "https://localhost:8080/"
        },
        "id": "p8tGIkPYcj2d",
        "outputId": "5152314b-7b05-476d-afaf-51c1c4ca4120"
      },
      "source": [
        "print(classification_report(val_y, pred_val))"
      ],
      "execution_count": 263,
      "outputs": [
        {
          "output_type": "stream",
          "name": "stdout",
          "text": [
            "              precision    recall  f1-score   support\n",
            "\n",
            "         2.0       1.00      0.50      0.67         2\n",
            "         3.0       0.53      0.25      0.34        36\n",
            "         4.0       0.83      0.95      0.89       243\n",
            "         5.0       0.76      0.55      0.64        53\n",
            "\n",
            "    accuracy                           0.81       334\n",
            "   macro avg       0.78      0.56      0.63       334\n",
            "weighted avg       0.79      0.81      0.79       334\n",
            "\n"
          ]
        }
      ]
    },
    {
      "cell_type": "markdown",
      "metadata": {
        "id": "jLIIL0NxgM3M"
      },
      "source": [
        "## Trial 6"
      ]
    },
    {
      "cell_type": "markdown",
      "metadata": {
        "id": "vQACXF1noANz"
      },
      "source": [
        "So now we know that tuning hyperparameters can help improve performance. However, a bottleneck in the performance is still the data which has too many features. Now that we have a simple RandomForest, we can analyze feature importance. 🔍"
      ]
    },
    {
      "cell_type": "code",
      "metadata": {
        "id": "38CBAA0ooIIz"
      },
      "source": [
        "def rf_feat_importance(m, df):\n",
        "    return pd.DataFrame({'cols':df.columns, 'imp':m.feature_importances_}\n",
        "                       ).sort_values('imp', ascending=False)"
      ],
      "execution_count": 264,
      "outputs": []
    },
    {
      "cell_type": "code",
      "metadata": {
        "colab": {
          "base_uri": "https://localhost:8080/",
          "height": 488
        },
        "id": "dEFa0E_l3eWV",
        "outputId": "849482de-7cc8-4132-9729-51ff5fb2deec"
      },
      "source": [
        "feat_importance = rf_feat_importance(rfc, tr_x)\n",
        "feat_importance"
      ],
      "execution_count": 265,
      "outputs": [
        {
          "output_type": "execute_result",
          "data": {
            "text/html": [
              "<div>\n",
              "<style scoped>\n",
              "    .dataframe tbody tr th:only-of-type {\n",
              "        vertical-align: middle;\n",
              "    }\n",
              "\n",
              "    .dataframe tbody tr th {\n",
              "        vertical-align: top;\n",
              "    }\n",
              "\n",
              "    .dataframe thead th {\n",
              "        text-align: right;\n",
              "    }\n",
              "</style>\n",
              "<table border=\"1\" class=\"dataframe\">\n",
              "  <thead>\n",
              "    <tr style=\"text-align: right;\">\n",
              "      <th></th>\n",
              "      <th>cols</th>\n",
              "      <th>imp</th>\n",
              "    </tr>\n",
              "  </thead>\n",
              "  <tbody>\n",
              "    <tr>\n",
              "      <th>2</th>\n",
              "      <td>rating_count</td>\n",
              "      <td>0.315273</td>\n",
              "    </tr>\n",
              "    <tr>\n",
              "      <th>12</th>\n",
              "      <td>merchant_rating_count</td>\n",
              "      <td>0.124546</td>\n",
              "    </tr>\n",
              "    <tr>\n",
              "      <th>13</th>\n",
              "      <td>merchant_rating</td>\n",
              "      <td>0.107922</td>\n",
              "    </tr>\n",
              "    <tr>\n",
              "      <th>0</th>\n",
              "      <td>price</td>\n",
              "      <td>0.088318</td>\n",
              "    </tr>\n",
              "    <tr>\n",
              "      <th>11</th>\n",
              "      <td>merchant_info_subtitle</td>\n",
              "      <td>0.074057</td>\n",
              "    </tr>\n",
              "    <tr>\n",
              "      <th>4</th>\n",
              "      <td>badge_product_quality</td>\n",
              "      <td>0.060663</td>\n",
              "    </tr>\n",
              "    <tr>\n",
              "      <th>1</th>\n",
              "      <td>retail_price</td>\n",
              "      <td>0.057086</td>\n",
              "    </tr>\n",
              "    <tr>\n",
              "      <th>5</th>\n",
              "      <td>product_color</td>\n",
              "      <td>0.049855</td>\n",
              "    </tr>\n",
              "    <tr>\n",
              "      <th>3</th>\n",
              "      <td>badges_count</td>\n",
              "      <td>0.047792</td>\n",
              "    </tr>\n",
              "    <tr>\n",
              "      <th>7</th>\n",
              "      <td>product_variation_inventory</td>\n",
              "      <td>0.033065</td>\n",
              "    </tr>\n",
              "    <tr>\n",
              "      <th>6</th>\n",
              "      <td>product_variation_size_id</td>\n",
              "      <td>0.022684</td>\n",
              "    </tr>\n",
              "    <tr>\n",
              "      <th>8</th>\n",
              "      <td>shipping_option_price</td>\n",
              "      <td>0.018739</td>\n",
              "    </tr>\n",
              "    <tr>\n",
              "      <th>9</th>\n",
              "      <td>inventory_total</td>\n",
              "      <td>0.000000</td>\n",
              "    </tr>\n",
              "    <tr>\n",
              "      <th>10</th>\n",
              "      <td>origin_country</td>\n",
              "      <td>0.000000</td>\n",
              "    </tr>\n",
              "  </tbody>\n",
              "</table>\n",
              "</div>"
            ],
            "text/plain": [
              "                           cols       imp\n",
              "2                  rating_count  0.315273\n",
              "12        merchant_rating_count  0.124546\n",
              "13              merchant_rating  0.107922\n",
              "0                         price  0.088318\n",
              "11       merchant_info_subtitle  0.074057\n",
              "4         badge_product_quality  0.060663\n",
              "1                  retail_price  0.057086\n",
              "5                 product_color  0.049855\n",
              "3                  badges_count  0.047792\n",
              "7   product_variation_inventory  0.033065\n",
              "6     product_variation_size_id  0.022684\n",
              "8         shipping_option_price  0.018739\n",
              "9               inventory_total  0.000000\n",
              "10               origin_country  0.000000"
            ]
          },
          "metadata": {},
          "execution_count": 265
        }
      ]
    },
    {
      "cell_type": "markdown",
      "metadata": {
        "id": "kQqRtetzW4TZ"
      },
      "source": [
        "It's easier to see the relative impact by plotting the feature importances."
      ]
    },
    {
      "cell_type": "code",
      "metadata": {
        "colab": {
          "base_uri": "https://localhost:8080/",
          "height": 408
        },
        "id": "Ir-RUXQz7oCn",
        "outputId": "9594b9af-db6a-49da-f37f-e44ed7aa68f1"
      },
      "source": [
        "feat_importance.plot('cols', 'imp', 'barh', figsize=(12,7), legend=False)"
      ],
      "execution_count": 266,
      "outputs": [
        {
          "output_type": "execute_result",
          "data": {
            "text/plain": [
              "<matplotlib.axes._subplots.AxesSubplot at 0x7f39d80aaa50>"
            ]
          },
          "metadata": {},
          "execution_count": 266
        },
        {
          "output_type": "display_data",
          "data": {
            "image/png": "[encoded data removed]",
            "text/plain": [
              "<Figure size 864x504 with 1 Axes>"
            ]
          },
          "metadata": {
            "needs_background": "light"
          }
        }
      ]
    },
    {
      "cell_type": "markdown",
      "metadata": {
        "id": "dgM-4pU35XgN"
      },
      "source": [
        "Let's consider a threshold of minimum feature importance of 0.02 and drop all columns below this threshold."
      ]
    },
    {
      "cell_type": "code",
      "metadata": {
        "id": "lUvku_Bt8dlh"
      },
      "source": [
        "feature_importance_threshold = 0.02\n",
        "cols_to_keep = feat_importance[feat_importance.imp > feature_importance_threshold].cols"
      ],
      "execution_count": 267,
      "outputs": []
    },
    {
      "cell_type": "code",
      "metadata": {
        "colab": {
          "base_uri": "https://localhost:8080/"
        },
        "id": "NJNxcYZZ8FQ_",
        "outputId": "ac0499a3-1e34-46a5-9533-5420e61c7e64"
      },
      "source": [
        "tr_x_imp = tr_x[cols_to_keep]\n",
        "val_x_imp = val_x[cols_to_keep]\n",
        "len(tr_x.columns), len(tr_x_imp.columns)"
      ],
      "execution_count": 268,
      "outputs": [
        {
          "output_type": "execute_result",
          "data": {
            "text/plain": [
              "(14, 11)"
            ]
          },
          "metadata": {},
          "execution_count": 268
        }
      ]
    },
    {
      "cell_type": "code",
      "metadata": {
        "colab": {
          "base_uri": "https://localhost:8080/"
        },
        "id": "gJXa5kss9X1x",
        "outputId": "abb01730-dc1b-461a-9b77-2112d41a31f8"
      },
      "source": [
        "rfc = rf(tr_x_imp, tr_y)\n",
        "get_f1_accuracy(rfc, val_x_imp, val_y)"
      ],
      "execution_count": 269,
      "outputs": [
        {
          "output_type": "execute_result",
          "data": {
            "text/plain": [
              "0.7874251497005988"
            ]
          },
          "metadata": {},
          "execution_count": 269
        }
      ]
    },
    {
      "cell_type": "markdown",
      "metadata": {
        "id": "79QAEbQd-kQ5"
      },
      "source": [
        "Our accuracy from using this model is about the same even though we cut the columns by half. This is really good as we have less data to overfit to. In addition the model is simpler and easier to understand."
      ]
    },
    {
      "cell_type": "markdown",
      "metadata": {
        "id": "vKRJa1riEn99"
      },
      "source": [
        "## Trial 7"
      ]
    },
    {
      "cell_type": "markdown",
      "metadata": {
        "id": "MtJcss8ZJTC2"
      },
      "source": [
        "Okay, let's do another round of cleaning data. Random forests provide a built-in validation or test set, called out-of-bag data. This is the data that was skipped in the \"bagging\" process RandomForests use to sample data. We can check the error against the out-of-bag data, which is called OOB error."
      ]
    },
    {
      "cell_type": "code",
      "metadata": {
        "colab": {
          "base_uri": "https://localhost:8080/"
        },
        "id": "qgKpOZBmI5Tz",
        "outputId": "955f7678-c506-42cb-9ec4-ac6c3270dbfb"
      },
      "source": [
        "tr_x_imp.columns"
      ],
      "execution_count": 270,
      "outputs": [
        {
          "output_type": "execute_result",
          "data": {
            "text/plain": [
              "Index(['rating_count', 'merchant_rating_count', 'merchant_rating', 'price',\n",
              "       'merchant_info_subtitle', 'badge_product_quality', 'retail_price',\n",
              "       'product_color', 'badges_count', 'product_variation_inventory',\n",
              "       'product_variation_size_id'],\n",
              "      dtype='object')"
            ]
          },
          "metadata": {},
          "execution_count": 270
        }
      ]
    },
    {
      "cell_type": "code",
      "metadata": {
        "id": "dWCyPNURGyJD"
      },
      "source": [
        "def get_oob(df):\n",
        "    m = RandomForestClassifier(n_estimators=40, min_samples_leaf=15,\n",
        "        max_samples=500, max_features=0.5, n_jobs=-1, oob_score=True)\n",
        "    m.fit(df, tr_y)\n",
        "    return m.oob_score_"
      ],
      "execution_count": 271,
      "outputs": []
    },
    {
      "cell_type": "markdown",
      "metadata": {
        "id": "cnXDH7QOKeEC"
      },
      "source": [
        "This will be our baseline OOB. If we can improve on this we may consider dropping another feature."
      ]
    },
    {
      "cell_type": "code",
      "metadata": {
        "colab": {
          "base_uri": "https://localhost:8080/"
        },
        "id": "UE1zTDcI-CgM",
        "outputId": "b53be45f-57c3-44fd-8748-c251eeb7cd80"
      },
      "source": [
        "get_oob(tr_x_imp)"
      ],
      "execution_count": 272,
      "outputs": [
        {
          "output_type": "execute_result",
          "data": {
            "text/plain": [
              "0.7457180500658761"
            ]
          },
          "metadata": {},
          "execution_count": 272
        }
      ]
    },
    {
      "cell_type": "code",
      "metadata": {
        "colab": {
          "base_uri": "https://localhost:8080/"
        },
        "id": "OTn4pl6fHoF8",
        "outputId": "f9d52254-bc88-4438-fcbc-e40e2be29714"
      },
      "source": [
        "{c:get_oob(tr_x_imp.drop(c, axis=1)) for c in tr_x_imp.columns}"
      ],
      "execution_count": 273,
      "outputs": [
        {
          "output_type": "execute_result",
          "data": {
            "text/plain": [
              "{'badge_product_quality': 0.7417654808959157,\n",
              " 'badges_count': 0.7457180500658761,\n",
              " 'merchant_info_subtitle': 0.7483530961791831,\n",
              " 'merchant_rating': 0.7496706192358367,\n",
              " 'merchant_rating_count': 0.7496706192358367,\n",
              " 'price': 0.7430830039525692,\n",
              " 'product_color': 0.7523056653491436,\n",
              " 'product_variation_inventory': 0.7470355731225297,\n",
              " 'product_variation_size_id': 0.7523056653491436,\n",
              " 'rating_count': 0.7140974967061924,\n",
              " 'retail_price': 0.7457180500658761}"
            ]
          },
          "metadata": {},
          "execution_count": 273
        }
      ]
    },
    {
      "cell_type": "markdown",
      "metadata": {
        "id": "sZbYf6ndRQsk"
      },
      "source": [
        "So we can see that if we remove either `product_variation_size_id` or `product_color`, our OOB score goes up. Let's try removing both of them and calculation F1 Loss. "
      ]
    },
    {
      "cell_type": "code",
      "metadata": {
        "colab": {
          "base_uri": "https://localhost:8080/"
        },
        "id": "1sn4YH1pBKBY",
        "outputId": "e1f06f23-755e-4cce-9baa-0f7af10bbeb8"
      },
      "source": [
        "tr_even_fewer_cols = tr_x_imp.drop(['product_variation_size_id', 'product_color'], axis=1)\n",
        "val_even_fewer_cols = val_x_imp.drop(['product_variation_size_id', 'product_color'], axis=1)\n",
        "get_f1_accuracy(rf(tr_even_fewer_cols, tr_y), val_even_fewer_cols, val_y)"
      ],
      "execution_count": 315,
      "outputs": [
        {
          "output_type": "execute_result",
          "data": {
            "text/plain": [
              "0.7904191616766467"
            ]
          },
          "metadata": {},
          "execution_count": 315
        }
      ]
    },
    {
      "cell_type": "markdown",
      "metadata": {
        "id": "uqCB813JCFrm"
      },
      "source": [
        "So turns out dropping `product_color` and `product_variation_size_id` offers a slightly improved performance. Let's drop them from the training data."
      ]
    },
    {
      "cell_type": "code",
      "metadata": {
        "id": "VIWsZVlyBhlK"
      },
      "source": [
        "tr_x_imp = tr_even_fewer_cols\n",
        "val_x_imp = val_even_fewer_cols"
      ],
      "execution_count": 321,
      "outputs": []
    },
    {
      "cell_type": "markdown",
      "metadata": {
        "id": "MdI4QwcoKmHE"
      },
      "source": [
        "Let's however try scaling one more time. "
      ]
    },
    {
      "cell_type": "code",
      "metadata": {
        "id": "Z3UZE36yJFW-"
      },
      "source": [
        "tr_x_scaled, val_x_scaled, sc = scale_x(tr_x_imp, val_x_imp)"
      ],
      "execution_count": 322,
      "outputs": []
    },
    {
      "cell_type": "code",
      "metadata": {
        "colab": {
          "base_uri": "https://localhost:8080/"
        },
        "id": "vk5xw8tBMjqf",
        "outputId": "8b00145b-cf46-45a5-9062-26300ac9545e"
      },
      "source": [
        "sc.mean_, sc.var_"
      ],
      "execution_count": 323,
      "outputs": [
        {
          "output_type": "execute_result",
          "data": {
            "text/plain": [
              "(array([9.41371542e+02, 2.87107866e+04, 4.03534363e+00, 8.19882740e+00,\n",
              "        3.05399209e+02, 8.43214756e-02, 2.33833992e+01, 1.10671937e-01,\n",
              "        3.25388669e+01]),\n",
              " array([4.54764177e+06, 9.96458782e+09, 4.26376589e-02, 1.44276496e+01,\n",
              "        2.87652912e+04, 7.72113644e-02, 9.95719935e+02, 1.22139074e-01,\n",
              "        4.62077211e+02]))"
            ]
          },
          "metadata": {},
          "execution_count": 323
        }
      ]
    },
    {
      "cell_type": "code",
      "metadata": {
        "colab": {
          "base_uri": "https://localhost:8080/"
        },
        "id": "aNVt3CqjMmuA",
        "outputId": "0a76ff35-05ef-4f20-a66d-5634ea2dd2f8"
      },
      "source": [
        "tr_x_scaled[:3]"
      ],
      "execution_count": 324,
      "outputs": [
        {
          "output_type": "execute_result",
          "data": {
            "text/plain": [
              "array([[-0.4203344 ,  0.29495485, -0.79415813, -0.05234539, -0.48583484,\n",
              "        -0.3034573 ,  1.12871388, -0.31667239, -1.28111699],\n",
              "       [-0.39313653, -0.08247402, -0.60536346,  1.00073663, -0.55069206,\n",
              "        -0.3034573 , -0.20229419, -0.31667239,  0.81229756],\n",
              "       [-0.35421545, -0.28473246, -1.48277699,  1.52727764, -0.89266647,\n",
              "        -0.3034573 , -0.36074753, -0.31667239, -1.04851538]])"
            ]
          },
          "metadata": {},
          "execution_count": 324
        }
      ]
    },
    {
      "cell_type": "code",
      "metadata": {
        "colab": {
          "base_uri": "https://localhost:8080/"
        },
        "id": "gdP34s7fMwWE",
        "outputId": "2a300ad2-a997-45b6-d21f-bd9b99210944"
      },
      "source": [
        "rfc = rf(tr_x_scaled, tr_y)\n",
        "get_f1_accuracy(rfc, val_x_scaled, val_y)"
      ],
      "execution_count": 325,
      "outputs": [
        {
          "output_type": "execute_result",
          "data": {
            "text/plain": [
              "0.7904191616766467"
            ]
          },
          "metadata": {},
          "execution_count": 325
        }
      ]
    },
    {
      "cell_type": "markdown",
      "metadata": {
        "id": "9EeKls2LNNZ5"
      },
      "source": [
        "Not real improvement here. I suppose this is as good as I can polish the data."
      ]
    },
    {
      "cell_type": "markdown",
      "metadata": {
        "id": "YGIwcHM1NgYg"
      },
      "source": [
        "## Trial 8"
      ]
    },
    {
      "cell_type": "markdown",
      "metadata": {
        "id": "wSSmy4awQqdp"
      },
      "source": [
        "One problem of our model can be revealed by observing the confusion matrix. Our predictions are heavily biased towards the mean.  "
      ]
    },
    {
      "cell_type": "code",
      "metadata": {
        "colab": {
          "base_uri": "https://localhost:8080/",
          "height": 279
        },
        "id": "j8QeasH2NDo4",
        "outputId": "527880df-b0a1-4f52-f389-b8ad49e50574"
      },
      "source": [
        "mat = confusion_matrix(val_y, pred_val)\n",
        "sns.heatmap(mat.T, square=True, annot=True, fmt='d', cbar=False)\n",
        "plt.xlabel('true label')\n",
        "plt.ylabel('predicted label');"
      ],
      "execution_count": 326,
      "outputs": [
        {
          "output_type": "display_data",
          "data": {
            "image/png": "[encoded data removed]",
            "text/plain": [
              "<Figure size 432x288 with 1 Axes>"
            ]
          },
          "metadata": {
            "needs_background": "light"
          }
        }
      ]
    },
    {
      "cell_type": "markdown",
      "metadata": {
        "id": "uicmglJUokzp"
      },
      "source": [
        "Perhaps this bias issue can be solved with some hyperparameter tweaking."
      ]
    },
    {
      "cell_type": "code",
      "metadata": {
        "colab": {
          "base_uri": "https://localhost:8080/",
          "height": 284
        },
        "id": "-syVSl0OsjxB",
        "outputId": "821d9e56-780f-41bf-b353-6fa529761bd3"
      },
      "source": [
        "# plot f1_score as n_estimators is steadily increased from 10 to 1000 with intervals of 100\n",
        "plt.plot([get_f1_accuracy(rf(tr_x_imp, tr_y, n_estimators=i), val_x_imp, val_y) for i in range(10,1000,100)])"
      ],
      "execution_count": 327,
      "outputs": [
        {
          "output_type": "execute_result",
          "data": {
            "text/plain": [
              "[<matplotlib.lines.Line2D at 0x7f39d8255810>]"
            ]
          },
          "metadata": {},
          "execution_count": 327
        },
        {
          "output_type": "display_data",
          "data": {
            "image/png": "[encoded data removed]",
            "text/plain": [
              "<Figure size 432x288 with 1 Axes>"
            ]
          },
          "metadata": {
            "needs_background": "light"
          }
        }
      ]
    },
    {
      "cell_type": "markdown",
      "metadata": {
        "id": "fuE4oeljuisT"
      },
      "source": [
        "It seems from here that accuracy is higher the more trees we have but with diminishing returns. So the optimal value seems to be about 600."
      ]
    },
    {
      "cell_type": "code",
      "metadata": {
        "colab": {
          "base_uri": "https://localhost:8080/"
        },
        "id": "S-dt9VkGv4BB",
        "outputId": "20580cd0-2a81-4d4b-e788-d05707062d86"
      },
      "source": [
        "get_f1_accuracy(rf(tr_x_imp, tr_y, n_estimators=600), val_x_imp, val_y)"
      ],
      "execution_count": 332,
      "outputs": [
        {
          "output_type": "execute_result",
          "data": {
            "text/plain": [
              "0.7874251497005988"
            ]
          },
          "metadata": {},
          "execution_count": 332
        }
      ]
    },
    {
      "cell_type": "markdown",
      "metadata": {
        "id": "_ozdAaq3xxwC"
      },
      "source": [
        "Let's redefine our random forest with the new n_estimator."
      ]
    },
    {
      "cell_type": "code",
      "metadata": {
        "id": "FtBayTONxhAC"
      },
      "source": [
        "def rf(xs, y, n_estimators=600, max_samples=425,\n",
        "       max_features=0.5, min_samples_leaf=5, max_leaf_nodes=400, **kwargs):\n",
        "    return RandomForestClassifier(n_jobs=-1, n_estimators=n_estimators,\n",
        "        max_samples=max_samples, max_features=max_features,\n",
        "        min_samples_leaf=min_samples_leaf, max_leaf_nodes=max_leaf_nodes, oob_score=True).fit(xs, y)\n",
        "\n"
      ],
      "execution_count": 329,
      "outputs": []
    },
    {
      "cell_type": "markdown",
      "metadata": {
        "id": "f2YUbl9yx5Y6"
      },
      "source": [
        "## Trial 9"
      ]
    },
    {
      "cell_type": "markdown",
      "metadata": {
        "id": "TqD1tAOIyG3L"
      },
      "source": [
        "Let's continue this sequence by playing with more hyperparameters. The next important hyperparams are `max_features` and `min_samples_leaf`.\n",
        "\n",
        "Let's compare max_features first."
      ]
    },
    {
      "cell_type": "code",
      "metadata": {
        "colab": {
          "base_uri": "https://localhost:8080/"
        },
        "id": "2Lx8_rL2yGiL",
        "outputId": "e5b0f9a0-35d8-4cd4-c5f8-3654a8fb45a2"
      },
      "source": [
        "[get_f1_accuracy(rf(tr_x_imp, tr_y, max_features=i), val_x_imp, val_y) for i in ['sqrt', 'log2', 0.5]]"
      ],
      "execution_count": 330,
      "outputs": [
        {
          "output_type": "execute_result",
          "data": {
            "text/plain": [
              "[0.7874251497005988, 0.7844311377245508, 0.7844311377245508]"
            ]
          },
          "metadata": {},
          "execution_count": 330
        }
      ]
    },
    {
      "cell_type": "markdown",
      "metadata": {
        "id": "_UX4_fJ84ntX"
      },
      "source": [
        "It appears `sqrt` offers the highest accuracy. So let's switch `max_features` to that."
      ]
    },
    {
      "cell_type": "code",
      "metadata": {
        "id": "j3z55i4c5TCp"
      },
      "source": [
        "def rf(xs, y, n_estimators=600, max_samples=425,\n",
        "       max_features='sqrt', min_samples_leaf=5, max_leaf_nodes=400, **kwargs):\n",
        "    return RandomForestClassifier(n_jobs=-1, n_estimators=n_estimators,\n",
        "        max_samples=max_samples, max_features=max_features,\n",
        "        min_samples_leaf=min_samples_leaf, max_leaf_nodes=max_leaf_nodes, oob_score=True).fit(xs, y)"
      ],
      "execution_count": 333,
      "outputs": []
    },
    {
      "cell_type": "markdown",
      "metadata": {
        "id": "c3f6Pkic6I10"
      },
      "source": [
        "## Trial 10\n",
        "\n",
        "For the final trial I will experiment with `min_samples_leaf`."
      ]
    },
    {
      "cell_type": "code",
      "metadata": {
        "colab": {
          "base_uri": "https://localhost:8080/",
          "height": 284
        },
        "id": "Fv_-BWXi7xZ7",
        "outputId": "e3913615-8dea-41dc-c951-b610a435179e"
      },
      "source": [
        "# plot f1_score as min_sample_leafs is steadily increased from 1 to 10\n",
        "plt.plot([get_f1_accuracy(rf(tr_x_imp, tr_y, min_samples_leaf=i), val_x_imp, val_y) for i in range(1,20)])"
      ],
      "execution_count": 334,
      "outputs": [
        {
          "output_type": "execute_result",
          "data": {
            "text/plain": [
              "[<matplotlib.lines.Line2D at 0x7f39d863b450>]"
            ]
          },
          "metadata": {},
          "execution_count": 334
        },
        {
          "output_type": "display_data",
          "data": {
            "image/png": "[encoded data removed]",
            "text/plain": [
              "<Figure size 432x288 with 1 Axes>"
            ]
          },
          "metadata": {
            "needs_background": "light"
          }
        }
      ]
    },
    {
      "cell_type": "markdown",
      "metadata": {
        "id": "qf7LN0Ug8IfY"
      },
      "source": [
        "Now it may seem that the graph is trending downwards and hence we should pick the highest value. However a `min_samples_leaf` of 1 will mean even one sample is enough for a leaf node. This may prevent some of the bias but it will also allow for more overfitting. I prefer to instead use the next peak of 6."
      ]
    },
    {
      "cell_type": "code",
      "metadata": {
        "id": "zP2BP-5l9dPG"
      },
      "source": [
        "def rf(xs, y, n_estimators=600, max_samples=425,\n",
        "       max_features='sqrt', min_samples_leaf=7, max_leaf_nodes=400, **kwargs):\n",
        "    return RandomForestClassifier(n_jobs=-1, n_estimators=n_estimators,\n",
        "        max_samples=max_samples, max_features=max_features,\n",
        "        min_samples_leaf=min_samples_leaf, max_leaf_nodes=max_leaf_nodes, oob_score=True).fit(xs, y)"
      ],
      "execution_count": 337,
      "outputs": []
    },
    {
      "cell_type": "code",
      "metadata": {
        "colab": {
          "base_uri": "https://localhost:8080/"
        },
        "id": "_poVez6q-IbP",
        "outputId": "aac7f29c-59c6-4074-e23c-d76c0cdbc8ff"
      },
      "source": [
        "rfc = rf(tr_x_scaled, tr_y)\n",
        "get_f1_accuracy(rfc, val_x_scaled, val_y)"
      ],
      "execution_count": 338,
      "outputs": [
        {
          "output_type": "execute_result",
          "data": {
            "text/plain": [
              "0.7934131736526946"
            ]
          },
          "metadata": {},
          "execution_count": 338
        }
      ]
    },
    {
      "cell_type": "markdown",
      "metadata": {
        "id": "LOz_dbeaSA_7"
      },
      "source": [
        "This is a pretty good score. I think its okay to stop here."
      ]
    },
    {
      "cell_type": "markdown",
      "metadata": {
        "id": "xpcwj7JzZbXL"
      },
      "source": [
        "## Submission Preparation"
      ]
    },
    {
      "cell_type": "markdown",
      "metadata": {
        "id": "WZFDGwh5943U"
      },
      "source": [
        "Finally, I am done tweaking as much as I could. 😭😭😭\n",
        "\n",
        "Let's generate an output so we can submit the results to the leaderboard."
      ]
    },
    {
      "cell_type": "code",
      "metadata": {
        "id": "dOR2NdaxQjis"
      },
      "source": [
        "# once you are happy with your local model, let's prepare a submission\n",
        "# we need to apply the same preprocessing steps on the testing set as you did before you train the model\n",
        "\n",
        "test_data = pd.read_csv('./drive/MyDrive/Colab Notebooks/test_new.csv').sample(frac=1) \n",
        "_id = test_data['id']\n",
        "test_data = test_data.fillna(0)\n",
        "test_data = test_data.drop(['merchant_id', 'merchant_profile_picture', 'id', 'tags'], axis=1)\n",
        "test_data[cat_cols] = test_data[cat_cols].apply(lambda col: col.map(dict_cat[col.name]))\n",
        "\n",
        "# again, not-seen string value filled with -1\n",
        "test_data = test_data.fillna(-1)\n",
        "\n",
        "test_data_imp = test_data[tr_x_imp.columns]"
      ],
      "execution_count": 344,
      "outputs": []
    },
    {
      "cell_type": "markdown",
      "metadata": {
        "id": "hcR09IYDSnad"
      },
      "source": [
        "Remember that we need to acale the test features the same way we scaled our training and validation sets."
      ]
    },
    {
      "cell_type": "code",
      "metadata": {
        "id": "suEt4xZhU-kB",
        "colab": {
          "base_uri": "https://localhost:8080/"
        },
        "outputId": "637a1239-6d12-4fd3-b4c9-4245d4eb676a"
      },
      "source": [
        "test_data_scaled = sc.transform(test_data_imp)\n",
        "test_data_scaled[:3]"
      ],
      "execution_count": 345,
      "outputs": [
        {
          "output_type": "execute_result",
          "data": {
            "text/plain": [
              "array([[-0.4170519 , -0.23809982,  0.40198556, -0.62364239, -1.80656359,\n",
              "        -0.3034573 ,  1.28716723, -0.31667239,  0.81229756],\n",
              "       [-0.43487119,  0.14233438,  0.34202046, -1.41871931,  0.59315337,\n",
              "        -0.3034573 ,  0.30475651, -0.31667239, -1.46719829],\n",
              "       [-0.40063939, -0.28529346, -1.73674964, -0.5788864 , -0.91625091,\n",
              "        -0.3034573 , -0.42412887, -0.31667239, -1.37415764]])"
            ]
          },
          "metadata": {},
          "execution_count": 345
        }
      ]
    },
    {
      "cell_type": "code",
      "metadata": {
        "colab": {
          "base_uri": "https://localhost:8080/"
        },
        "id": "T9wqslZXUB3J",
        "outputId": "af64854d-9173-498c-8f7a-f971310bf305"
      },
      "source": [
        "test_data_scaled.shape, tr_x_scaled.shape"
      ],
      "execution_count": 341,
      "outputs": [
        {
          "output_type": "execute_result",
          "data": {
            "text/plain": [
              "((479, 9), (759, 9))"
            ]
          },
          "metadata": {},
          "execution_count": 341
        }
      ]
    },
    {
      "cell_type": "code",
      "metadata": {
        "id": "I3fdMMI4UGM8"
      },
      "source": [
        "pred_test = rfc.predict(test_data_scaled)\n",
        "pred_df = pd.DataFrame(data={'id': np.asarray(_id), 'rating': pred_test})\n",
        "pred_df.to_csv('preds_rohan.csv', index=False)"
      ],
      "execution_count": 342,
      "outputs": []
    }
  ]
}